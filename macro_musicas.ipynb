{
 "cells": [
  {
   "cell_type": "code",
   "execution_count": 3,
   "id": "7d8ae0a9",
   "metadata": {},
   "outputs": [],
   "source": [
    "import pyautogui\n",
    "import pyperclip\n",
    "import time\n",
    "# Packages importation"
   ]
  },
  {
   "cell_type": "markdown",
   "id": "f5923a72",
   "metadata": {},
   "source": [
    "## Change the Folder to where the musics are"
   ]
  },
  {
   "cell_type": "code",
   "execution_count": 39,
   "id": "e05f0f29",
   "metadata": {},
   "outputs": [],
   "source": [
    "pyperclip.copy(\"U2 - \") # This will be the band's name, just change \"U2\" for the name of the band you want\n",
    "number_files = 3 #This is the numer of the files you'll run the script in the for\n",
    "pyautogui.hotkey(\"alt\", \"tab\")\n",
    "pyautogui.press(\"enter\")\n",
    "time.sleep(1)\n",
    "pyautogui.press(\"f2\") # Now you can change the name of the files on the folder\n",
    "for i in range (0, number_files): # Macro for renaming the files, with number_files as the number of files you have to rename\n",
    "    pyautogui.press(\"home\")\n",
    "    pyautogui.hotkey(\"ctrl\",\"v\")\n",
    "    pyautogui.press(\"tab\")"
   ]
  }
 ],
 "metadata": {
  "kernelspec": {
   "display_name": "Python 3 (ipykernel)",
   "language": "python",
   "name": "python3"
  },
  "language_info": {
   "codemirror_mode": {
    "name": "ipython",
    "version": 3
   },
   "file_extension": ".py",
   "mimetype": "text/x-python",
   "name": "python",
   "nbconvert_exporter": "python",
   "pygments_lexer": "ipython3",
   "version": "3.9.7"
  }
 },
 "nbformat": 4,
 "nbformat_minor": 5
}
